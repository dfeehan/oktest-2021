{
 "cells": [
  {
   "cell_type": "code",
   "execution_count": null,
   "id": "technical-bleeding",
   "metadata": {
    "deletable": false,
    "editable": false
   },
   "outputs": [],
   "source": [
    "# Initialize OK\n",
    "from client.api.notebook import Notebook\n",
    "ok = Notebook('lab02.ok')"
   ]
  },
  {
   "cell_type": "code",
   "execution_count": 1,
   "metadata": {},
   "outputs": [],
   "source": [
    "from IPython.core.display import HTML\n",
    "from datascience import *\n",
    "\n",
    "import matplotlib\n",
    "matplotlib.use('Agg')\n",
    "%matplotlib inline\n",
    "import matplotlib.pyplot as plt\n",
    "import numpy as np\n",
    "import os\n",
    "plt.style.use('fivethirtyeight')\n",
    "\n",
    "import pandas as pd\n",
    "import zipfile\n",
    "import io\n",
    "import math\n",
    "\n",
    "def css_styling():\n",
    "    styles = open('../notebook_styles.css', 'r').read()\n",
    "    return HTML(styles)\n",
    "css_styling()"
   ]
  },
  {
   "cell_type": "markdown",
   "metadata": {},
   "source": [
    "# Lab 02 - Life and death around the world"
   ]
  },
  {
   "cell_type": "markdown",
   "metadata": {},
   "source": [
    "## Introductions"
   ]
  },
  {
   "cell_type": "markdown",
   "metadata": {
    "deletable": false,
    "editable": false
   },
   "source": [
    "**What is your partner's name?**\n",
    "<!--\n",
    "BEGIN QUESTION\n",
    "name: q_introname\n",
    "points: 1\n",
    "-->"
   ]
  },
  {
   "cell_type": "markdown",
   "metadata": {},
   "source": [
    "*Write your answer here, replacing this text.*"
   ]
  },
  {
   "cell_type": "markdown",
   "metadata": {
    "deletable": false,
    "editable": false
   },
   "source": [
    "**What year is your partner in? (Freshman, Sophomore, etc)**\n",
    "<!--\n",
    "BEGIN QUESTION\n",
    "name: q_introyear\n",
    "points: 1\n",
    "-->"
   ]
  },
  {
   "cell_type": "markdown",
   "metadata": {},
   "source": [
    "*Write your answer here, replacing this text.*"
   ]
  },
  {
   "cell_type": "markdown",
   "metadata": {
    "deletable": false,
    "editable": false
   },
   "source": [
    "**What is your partner's favorite food?**\n",
    "<!--\n",
    "BEGIN QUESTION\n",
    "name: q_introfood\n",
    "points: 1\n",
    "-->"
   ]
  },
  {
   "cell_type": "markdown",
   "metadata": {},
   "source": [
    "*Write your answer here, replacing this text.*"
   ]
  },
  {
   "cell_type": "markdown",
   "metadata": {},
   "source": [
    " "
   ]
  },
  {
   "cell_type": "markdown",
   "metadata": {
    "slideshow": {
     "slide_type": "subslide"
    }
   },
   "source": [
    "### Getting started\n",
    "\n",
    "In the last lab, we explored life tables for men and women in the 50 United States.\n",
    "\n",
    "Today, we're going to broaden our scope and take a look at mortality around the globe.  We'll use data from the [United Nations Population Division](https://population.un.org/wpp/). The UNPD produces estimates for demographic quantities for countries around the world.\n",
    "\n",
    "Our coding goals are:\n",
    "\n",
    "* practice filtering data\n",
    "* practice functions"
   ]
  },
  {
   "cell_type": "markdown",
   "metadata": {},
   "source": [
    "First, we'll read in a dataset that has life tables for all of the countries around the world in the time period 2010-2015:"
   ]
  },
  {
   "cell_type": "code",
   "execution_count": 2,
   "metadata": {},
   "outputs": [],
   "source": [
    "unpd_2015 = Table.read_table('../data/UNPD/unpd_life_tables_2015_cleaned.csv')\n",
    "unpd_2015"
   ]
  },
  {
   "cell_type": "markdown",
   "metadata": {},
   "source": [
    "You can see that there are life tables for the time period from 2010 to 2015 for many countries in this dataset.  It will be useful to make a list that has the names of all of the countries in the dataset."
   ]
  },
  {
   "cell_type": "code",
   "execution_count": 3,
   "metadata": {},
   "outputs": [],
   "source": [
    "all_countries = np.unique(unpd_2015['area'])\n",
    "all_countries"
   ]
  },
  {
   "cell_type": "code",
   "execution_count": 4,
   "metadata": {},
   "outputs": [],
   "source": [
    "print(\"There are\", len(all_countries), \"countries in the dataset.\")"
   ]
  },
  {
   "cell_type": "markdown",
   "metadata": {},
   "source": [
    "We'll start by extracting life expectancy at birth for males and for females from each country. As we've discussed over the past couple of classes, life expectancy at birth is a widely used indicator for the mortality experience of a population.\n",
    "\n",
    "Recall that in a standard life table, life expectancy at birth with be in the `e` column for age 0."
   ]
  },
  {
   "cell_type": "markdown",
   "metadata": {
    "deletable": false,
    "editable": false
   },
   "source": [
    "**Question: Make a dataset that has the row corresponding to age 0 for each country for males; then make another dataset that has the row corresponding to age 0 for each country for females.**\n",
    "<!--\n",
    "BEGIN QUESTION\n",
    "name: q_lt_age0\n",
    "points: 2\n",
    "-->"
   ]
  },
  {
   "cell_type": "code",
   "execution_count": 5,
   "metadata": {},
   "outputs": [],
   "source": [
    "# males\n",
    "lt_m_age0 = unpd_2015.where(...).where(...)\n",
    "\n",
    "# females\n",
    "lt_f_age0 = unpd_2015.where(...).where(...)"
   ]
  },
  {
   "cell_type": "code",
   "execution_count": null,
   "id": "general-italic",
   "metadata": {
    "deletable": false,
    "editable": false
   },
   "outputs": [],
   "source": [
    "ok.grade(\"q_lt_age0\");"
   ]
  },
  {
   "cell_type": "markdown",
   "metadata": {},
   "source": [
    "Using the two datasets we just made, we'll now iterate through all of the countries in the list `all_countries` to build up a dataset that has the life expectancy for males and females in each country."
   ]
  },
  {
   "cell_type": "markdown",
   "metadata": {
    "deletable": false,
    "editable": false
   },
   "source": [
    "**Question: Fill in the missing parts of the code below to build a dataset that has the male and female life expectancy at birth for all of the countries in the UNPD dataset.**\n",
    "<!--\n",
    "BEGIN QUESTION\n",
    "name: q_country_e0\n",
    "points: 3\n",
    "-->"
   ]
  },
  {
   "cell_type": "code",
   "execution_count": 9,
   "metadata": {},
   "outputs": [],
   "source": [
    "country_e0_m = make_array()\n",
    "country_e0_f = make_array()\n",
    "\n",
    "for country in all_countries:\n",
    "    country_e0_m = np.append(country_e0_m,\n",
    "                             lt_m_age0.where(...)['e'])\n",
    "    country_e0_f = np.append(country_e0_f,\n",
    "                             lt_f_age0.where(...)['e'])\n",
    "    \n",
    "e0_2015 = Table().with_columns('country', ...,\n",
    "                                  'e0_m', country_e0_m,\n",
    "                                  'e0_f', country_e0_f)\n",
    "e0_2015"
   ]
  },
  {
   "cell_type": "code",
   "execution_count": null,
   "id": "threaded-virgin",
   "metadata": {
    "deletable": false,
    "editable": false
   },
   "outputs": [],
   "source": [
    "ok.grade(\"q_country_e0\");"
   ]
  },
  {
   "cell_type": "markdown",
   "metadata": {},
   "source": [
    "**Question: Write some code to determine which country had the highest and lowest life expectancy for males and for females; please report the country and the life expectancy itself.**"
   ]
  },
  {
   "cell_type": "code",
   "execution_count": 12,
   "metadata": {},
   "outputs": [],
   "source": [
    "lowest_male_le = ...\n",
    "highest_male_le = ...\n",
    "lowest_female_le = ...\n",
    "highest_female_le = ...\n",
    "\n",
    "print(\"Highest Female e0:\", highest_female_le)\n",
    "print(\"Lowest Female e0:\",  lowest_female_le)\n",
    "print(\"Highest Male e0:\", highest_male_le)\n",
    "print(\"Lowest Male e0:\", lowest_male_le)"
   ]
  },
  {
   "cell_type": "markdown",
   "metadata": {
    "deletable": false,
    "editable": false
   },
   "source": [
    "Highest female e0:\n",
    "<!--\n",
    "BEGIN QUESTION\n",
    "name: q_e0_highestf\n",
    "points: 1\n",
    "manual: True\n",
    "-->\n",
    "<!-- EXPORT TO PDF -->"
   ]
  },
  {
   "cell_type": "markdown",
   "metadata": {},
   "source": [
    "*Write your answer here, replacing this text.*"
   ]
  },
  {
   "cell_type": "markdown",
   "metadata": {
    "deletable": false,
    "editable": false
   },
   "source": [
    "Lowest female e0:\n",
    "<!--\n",
    "BEGIN QUESTION\n",
    "name: q_e0_lowestf\n",
    "points: 1\n",
    "manual: True\n",
    "-->\n",
    "<!-- EXPORT TO PDF -->"
   ]
  },
  {
   "cell_type": "markdown",
   "metadata": {},
   "source": [
    "*Write your answer here, replacing this text.*"
   ]
  },
  {
   "cell_type": "markdown",
   "metadata": {
    "deletable": false,
    "editable": false
   },
   "source": [
    "Highest male e0:\n",
    "<!--\n",
    "BEGIN QUESTION\n",
    "name: q_e0_highestm\n",
    "points: 1\n",
    "manual: True\n",
    "-->\n",
    "<!-- EXPORT TO PDF -->"
   ]
  },
  {
   "cell_type": "markdown",
   "metadata": {},
   "source": [
    "*Write your answer here, replacing this text.*"
   ]
  },
  {
   "cell_type": "markdown",
   "metadata": {
    "deletable": false,
    "editable": false
   },
   "source": [
    "Lowest male e0:\n",
    "<!--\n",
    "BEGIN QUESTION\n",
    "name: q_e0_highestm\n",
    "points: 1\n",
    "manual: True\n",
    "-->\n",
    "<!-- EXPORT TO PDF -->"
   ]
  },
  {
   "cell_type": "markdown",
   "metadata": {},
   "source": [
    "*Write your answer here, replacing this text.*"
   ]
  },
  {
   "cell_type": "markdown",
   "metadata": {
    "deletable": false,
    "editable": false
   },
   "source": [
    "**Question: Make a histogram that shows the distribution of life expectancy values around the world for males and for females.**  \n",
    "*[NOTE: try to see if you can plot the distribution of males and females on the same plot, to most easily compare them. If you get stuck on this, you can make a separate plot for males and for females]*\n",
    "<!--\n",
    "BEGIN QUESTION\n",
    "name: q_e0_mf_dist\n",
    "points: 1\n",
    "manual: True\n",
    "image: True\n",
    "-->\n",
    "<!-- EXPORT TO PDF -->"
   ]
  },
  {
   "cell_type": "code",
   "execution_count": 13,
   "metadata": {},
   "outputs": [],
   "source": [
    "..."
   ]
  },
  {
   "cell_type": "markdown",
   "metadata": {
    "deletable": false,
    "editable": false
   },
   "source": [
    "**Question: Now make a scatterplot that compares life expectancy for males (x axis) and life expectancy for females (y axis).**\n",
    "<!--\n",
    "BEGIN QUESTION\n",
    "name: q_e0_mf_scatter\n",
    "points: 1\n",
    "manual: True\n",
    "image: True\n",
    "-->\n",
    "<!-- EXPORT TO PDF -->"
   ]
  },
  {
   "cell_type": "code",
   "execution_count": 14,
   "metadata": {},
   "outputs": [],
   "source": [
    "..."
   ]
  },
  {
   "cell_type": "markdown",
   "metadata": {
    "deletable": false,
    "editable": false
   },
   "source": [
    "**Question: Looking at the two plots you just made, what do you conclude about the relationship between male and female life expectancy?**\n",
    "<!--\n",
    "BEGIN QUESTION\n",
    "name: q_e0_mf_comp\n",
    "points: 1\n",
    "manual: True\n",
    "-->\n",
    "<!-- EXPORT TO PDF -->"
   ]
  },
  {
   "cell_type": "markdown",
   "metadata": {},
   "source": [
    "*Write your answer here, replacing this text.*"
   ]
  },
  {
   "cell_type": "markdown",
   "metadata": {
    "deletable": false,
    "editable": false
   },
   "source": [
    "**Question: Fill in the code below to make a histogram of the difference between female and male e0.**\n",
    "<!--\n",
    "BEGIN QUESTION\n",
    "name: q_mf_e0_diff_hist\n",
    "points: 1\n",
    "manual: True\n",
    "image: True\n",
    "-->\n",
    "<!-- EXPORT TO PDF -->"
   ]
  },
  {
   "cell_type": "code",
   "execution_count": 15,
   "metadata": {},
   "outputs": [],
   "source": [
    "e0_mf_comp = Table().with_column('e0_f_minus_e0_m', ...)\n",
    "e0_mf_comp.hist()"
   ]
  },
  {
   "cell_type": "markdown",
   "metadata": {},
   "source": [
    "**Question: Fill in the code below to summarize the difference between female and male e0 in a few different ways.**"
   ]
  },
  {
   "cell_type": "code",
   "execution_count": 16,
   "metadata": {},
   "outputs": [],
   "source": [
    "print(\"Avg diff between female and male e0: \", ...)\n",
    "print(\"Std. deviation of diff between female and male e0: \", ...)\n",
    "print(\"Minimum diff between female and male e0: \", ...)\n",
    "print(\"Maximum diff between female and male e0: \", ...)"
   ]
  },
  {
   "cell_type": "markdown",
   "metadata": {},
   "source": [
    "### The components of mortality"
   ]
  },
  {
   "cell_type": "markdown",
   "metadata": {},
   "source": [
    "Life expectancy at birth give us an aggregate picture of mortality across all ages. In order to understand more deeply, demographers often look at different components that contribute to life expectancy. Here, we'll explore child mortality and adult mortality.\n",
    "\n",
    "We'll start by looking at child mortality. There are many different ways you could imagine trying to summarize mortality at childhood ages; we'll look at a frequently-used indicator: the life table probability of death before age 5."
   ]
  },
  {
   "cell_type": "markdown",
   "metadata": {},
   "source": [
    "Before we get started looking at the data, let's pause for a second and check that we understand what we want to measure here.  The life table probability of death before age 5, called ${}_5q_0$ in demographic language, is\n",
    "\n",
    "$$\n",
    "{}_5q_0 = \\frac{\\text{# life table deaths between ages 0 and 5}}{\\text{# life table births}}\n",
    "= 1 - \\frac{\\text{# life table survivors to age 5}}{\\text{# life table births}}\n",
    "$$"
   ]
  },
  {
   "cell_type": "markdown",
   "metadata": {},
   "source": [
    "Take this example of the life table for Mexican females:"
   ]
  },
  {
   "cell_type": "code",
   "execution_count": 17,
   "metadata": {},
   "outputs": [],
   "source": [
    "unpd_2015.where('area', are.equal_to('Mexico')).where('sex', are.equal_to('female')).show()"
   ]
  },
  {
   "cell_type": "markdown",
   "metadata": {
    "deletable": false,
    "editable": false
   },
   "source": [
    "**Question: Use the life table above to calculate child mortality for Mexican females by hand.**\n",
    "<!--\n",
    "BEGIN QUESTION\n",
    "name: q_childmort_byhand\n",
    "points: 1\n",
    "manual: True\n",
    "-->\n",
    "<!-- EXPORT TO PDF -->"
   ]
  },
  {
   "cell_type": "markdown",
   "metadata": {},
   "source": [
    "*Write your answer here, replacing this text.*"
   ]
  },
  {
   "cell_type": "markdown",
   "metadata": {},
   "source": [
    "You should get an answer of about 0.02. This means that in the synthetic population described by the life table, there is about a 2% chance that a baby will die before reaching age 5."
   ]
  },
  {
   "cell_type": "markdown",
   "metadata": {},
   "source": [
    "**Question: Now fill in the code below to calculate child mortality for Mexican females (the same thing you just calculated by hand).**"
   ]
  },
  {
   "cell_type": "code",
   "execution_count": 18,
   "metadata": {},
   "outputs": [],
   "source": [
    "lt_data = unpd_2015.where('area', are.equal_to(...)).where('sex', are.equal_to(...))\n",
    "1 - (lt_data[...][...] / lt_data[...][...])"
   ]
  },
  {
   "cell_type": "markdown",
   "metadata": {},
   "source": [
    "You should get the same answer that you got when calculating by hand.  \n",
    "  \n",
    "Now that we know how to calculate child mortality for a specific example, let's write a function that will help us calculate it everywhere."
   ]
  },
  {
   "cell_type": "markdown",
   "metadata": {},
   "source": [
    "**Question: Fill in the function below, which calculates child mortality for a given life table**"
   ]
  },
  {
   "cell_type": "code",
   "execution_count": 19,
   "metadata": {},
   "outputs": [],
   "source": [
    "def get_child_mortality(lt_data):\n",
    "    \"\"\"\n",
    "    Given the data for a life table, calculate the life table probability of death between \n",
    "    ages 0 and age 5.\n",
    "    \n",
    "    NOTE: this assumes that the life table is sorted by age; in particular, the first row\n",
    "    (index 0) should be age 0, and the third row (index 2) should be age group 5.\n",
    "    (The UNPD dataset should satisfy this requirement.)\n",
    "    \"\"\"\n",
    "    child_survival = ... / ...\n",
    "    # the probability of death is 1 - the probability of surviving\n",
    "    child_mortality = 1 - child_survival\n",
    "\n",
    "    return(child_mortality)\n",
    "\n",
    "# check on Mexican females; again, you should get the same answer as above\n",
    "mx_f_lt = unpd_2015.where('area', are.equal_to('Mexico')).where('sex', are.equal_to('female'))\n",
    "get_child_mortality(mx_f_lt)"
   ]
  },
  {
   "cell_type": "markdown",
   "metadata": {},
   "source": [
    "OK, now we're ready to calculate child mortality for every country and both sexes."
   ]
  },
  {
   "cell_type": "markdown",
   "metadata": {
    "deletable": false,
    "editable": false
   },
   "source": [
    "**Question: Fill in the code for the loop below to calculate child mortality for all countries and for all sexes** . \n",
    "*[HINT: remember that `all_countries` has a list of all of the countries in the dataset]*\n",
    "<!--\n",
    "BEGIN QUESTION\n",
    "name: q_childmort_2015\n",
    "points: 5\n",
    "-->"
   ]
  },
  {
   "cell_type": "code",
   "execution_count": 20,
   "metadata": {},
   "outputs": [],
   "source": [
    "country_childmort_m = make_array()\n",
    "country_childmort_f = make_array()\n",
    "\n",
    "lt_m = unpd_2015.where('sex', are.equal_to('male'))\n",
    "lt_f = unpd_2015.where('sex', are.equal_to('female'))\n",
    "\n",
    "for country in all_countries:\n",
    "    country_childmort_m = np.append(country_childmort_m,\n",
    "                                    ...)\n",
    "    country_childmort_f = np.append(country_childmort_f,\n",
    "                                    ...)\n",
    "    \n",
    "childmort_2015 = Table().with_columns('country', ...,\n",
    "                                      'childmort_m', ...,\n",
    "                                      'childmort_f', ...)\n",
    "\n",
    "childmort_2015.show()"
   ]
  },
  {
   "cell_type": "code",
   "execution_count": null,
   "id": "union-steel",
   "metadata": {
    "deletable": false,
    "editable": false
   },
   "outputs": [],
   "source": [
    "ok.grade(\"q_childmort_2015\");"
   ]
  },
  {
   "cell_type": "markdown",
   "metadata": {
    "deletable": false,
    "editable": false
   },
   "source": [
    "**Question: Make a scatterplot comparing child mortality for males (x axis) and females (y axis).**\n",
    "<!--\n",
    "BEGIN QUESTION\n",
    "name: q_childmort_mf_scatter\n",
    "points: 1\n",
    "manual: True\n",
    "image: True\n",
    "-->\n",
    "<!-- EXPORT TO PDF -->"
   ]
  },
  {
   "cell_type": "code",
   "execution_count": 24,
   "metadata": {},
   "outputs": [],
   "source": [
    "..."
   ]
  },
  {
   "cell_type": "markdown",
   "metadata": {
    "deletable": false,
    "editable": false
   },
   "source": [
    "**Question: Make a histogram showing the distribution of male and female child mortality across countries.**  \n",
    "*[NOTE: You should be able to plot the histograms in a single plot.]* .\n",
    "<!--\n",
    "BEGIN QUESTION\n",
    "name: q_childmort_hist\n",
    "points: 1\n",
    "manual: True\n",
    "image: True\n",
    "-->\n",
    "<!-- EXPORT TO PDF -->"
   ]
  },
  {
   "cell_type": "code",
   "execution_count": 25,
   "metadata": {},
   "outputs": [],
   "source": [
    "..."
   ]
  },
  {
   "cell_type": "markdown",
   "metadata": {
    "deletable": false,
    "editable": false
   },
   "source": [
    "**Question: Looking at the two plots you just made, what do you conclude about male and female child mortality? How similar or different are they?**\n",
    "<!--\n",
    "BEGIN QUESTION\n",
    "name: q_childmort_plots_ans\n",
    "points: 2\n",
    "manual: True\n",
    "-->\n",
    "<!-- EXPORT TO PDF -->"
   ]
  },
  {
   "cell_type": "markdown",
   "metadata": {},
   "source": [
    "*Write your answer here, replacing this text.*"
   ]
  },
  {
   "cell_type": "markdown",
   "metadata": {},
   "source": [
    "### Make a dataset with both mortality indicators"
   ]
  },
  {
   "cell_type": "markdown",
   "metadata": {},
   "source": [
    "Now let's examine how child mortality relates to life expectancy. To do so, we'll assemble a dataset with `e0` and `childmort` in the same place."
   ]
  },
  {
   "cell_type": "markdown",
   "metadata": {},
   "source": [
    "We'll use a `join` to make a dataset that has `e0_m`, `e0_f`, `childmort_m`, and `childmort_f` for all countries in the UNPD database, calling the combined dataset `all_mort`.\n",
    "\n",
    "If this doesn't look familiar, don't worry: it may not have been covered in Data 8 quite yet."
   ]
  },
  {
   "cell_type": "code",
   "execution_count": 26,
   "metadata": {},
   "outputs": [],
   "source": [
    "all_mort = e0_2015.join('country', childmort_2015, 'country')\n",
    "all_mort.show()"
   ]
  },
  {
   "cell_type": "markdown",
   "metadata": {
    "deletable": false,
    "editable": false
   },
   "source": [
    "**Question: Make a scatterplot that compares female life expectancy (x axis) to child mortality for males and females (both on the y axis)**\n",
    "<!--\n",
    "BEGIN QUESTION\n",
    "name: q_f_e0_childmort_scatter\n",
    "points: 1\n",
    "manual: True\n",
    "image: True\n",
    "-->\n",
    "<!-- EXPORT TO PDF -->"
   ]
  },
  {
   "cell_type": "code",
   "execution_count": 27,
   "metadata": {},
   "outputs": [],
   "source": [
    "all_mort.select([..., ..., ...]).scatter(...)"
   ]
  },
  {
   "cell_type": "markdown",
   "metadata": {
    "deletable": false,
    "editable": false
   },
   "source": [
    "**Question: How would you describe the relationship between life expectancy and child mortality?**\n",
    "<!--\n",
    "BEGIN QUESTION\n",
    "name: q_f_e0_childmort_scatter_ans\n",
    "points: 1\n",
    "manual: True\n",
    "-->\n",
    "<!-- EXPORT TO PDF -->"
   ]
  },
  {
   "cell_type": "markdown",
   "metadata": {},
   "source": [
    "*Write your answer here, replacing this text.*"
   ]
  },
  {
   "cell_type": "markdown",
   "metadata": {},
   "source": [
    "## Look at life expectancy over time"
   ]
  },
  {
   "cell_type": "markdown",
   "metadata": {},
   "source": [
    "Finally, we'll start to explore how life expectancy has changed over time in some countries. This will be important to a big topic that we'll discuss a little later in the semester: the Demographic Transition."
   ]
  },
  {
   "cell_type": "markdown",
   "metadata": {},
   "source": [
    "The dataset we've used so far has the UNPD life tables for the period 2010-2015.  Now we'll open up the full UNPD datset, which has many time periods in it."
   ]
  },
  {
   "cell_type": "code",
   "execution_count": 28,
   "metadata": {},
   "outputs": [],
   "source": [
    "unpd = Table.read_table('../data/UNPD/unpd_life_tables_cleaned.csv')\n",
    "unpd"
   ]
  },
  {
   "cell_type": "markdown",
   "metadata": {},
   "source": [
    "The `period` column in the new datset has the year that is the end of a 5-year time interval. So, for example, when `period` is equal to 1955, the row refers to the 5-year window from 1950-1955."
   ]
  },
  {
   "cell_type": "markdown",
   "metadata": {
    "deletable": false,
    "editable": false
   },
   "source": [
    "**Question: Make a variable that has the unique periods that show up in the `unpd` dataset.**  \n",
    "*[HINT: Use the same pattern we used above to create the `all_years` variable]*\n",
    "<!--\n",
    "BEGIN QUESTION\n",
    "name: q_make_all_periods\n",
    "points: 1\n",
    "-->"
   ]
  },
  {
   "cell_type": "code",
   "execution_count": 29,
   "metadata": {},
   "outputs": [],
   "source": [
    "all_periods = ...\n",
    "all_periods"
   ]
  },
  {
   "cell_type": "code",
   "execution_count": null,
   "id": "elect-exploration",
   "metadata": {
    "deletable": false,
    "editable": false
   },
   "outputs": [],
   "source": [
    "ok.grade(\"q_make_all_periods\");"
   ]
  },
  {
   "cell_type": "markdown",
   "metadata": {},
   "source": [
    "Recall that in a standard life table, life expectancy at birth is given by the entry in the `e` column for age. Therefore, we can get a dataset that has life expectancy for each country/sex/period by identifying the rows in the full dataset that correspond to age 0."
   ]
  },
  {
   "cell_type": "markdown",
   "metadata": {
    "deletable": false,
    "editable": false
   },
   "source": [
    "**Question: Fill in the code below to produce a dataset that has life expectancy at birth for each country/sex/period.**\n",
    "<!--\n",
    "BEGIN QUESTION\n",
    "name: q_e0_byperiod\n",
    "points: 1\n",
    "-->"
   ]
  },
  {
   "cell_type": "code",
   "execution_count": 33,
   "metadata": {},
   "outputs": [],
   "source": [
    "e0_byperiod = unpd.where(...).select('area', 'sex', 'period', 'e')\n",
    "e0_byperiod"
   ]
  },
  {
   "cell_type": "code",
   "execution_count": null,
   "id": "reported-money",
   "metadata": {
    "deletable": false,
    "editable": false
   },
   "outputs": [],
   "source": [
    "ok.grade(\"q_e0_byperiod\");"
   ]
  },
  {
   "cell_type": "markdown",
   "metadata": {},
   "source": [
    "Above, we determined which countries had the highest and lowest life expectancies in 2010-2015."
   ]
  },
  {
   "cell_type": "markdown",
   "metadata": {},
   "source": [
    "**Question: Determine which countries had the highest and lowest female life expectancy in the period ending in 1960**"
   ]
  },
  {
   "cell_type": "code",
   "execution_count": 37,
   "metadata": {},
   "outputs": [],
   "source": [
    "e0_1960_m = e0_byperiod.where(...).where('sex', are.equal_to('male'))\n",
    "e0_1960_f = e0_byperiod.where(...).where('sex', are.equal_to('female'))\n",
    "\n",
    "lowest_male_le = e0_1960_m.sort(...).take(0)\n",
    "highest_male_le = e0_1960_m.sort(..., descending=True).take(0)\n",
    "lowest_female_le = e0_1960_f.sort(...).take(0)\n",
    "highest_female_le = e0_1960_f.sort(..., descending=True).take(0)\n",
    "\n",
    "print(\"1955-60 Highest Female e0:\", highest_female_le)\n",
    "print(\"1955-60 Lowest Female e0:\",  lowest_female_le)\n",
    "print(\"1955-60 Highest Male e0:\", highest_male_le)\n",
    "print(\"1955-60 Lowest Male e0:\", lowest_male_le)"
   ]
  },
  {
   "cell_type": "markdown",
   "metadata": {
    "deletable": false,
    "editable": false
   },
   "source": [
    "Highest female e0:\n",
    "<!--\n",
    "BEGIN QUESTION\n",
    "name: q_e0_highestf_1960\n",
    "points: 1\n",
    "manual: True\n",
    "-->\n",
    "<!-- EXPORT TO PDF -->"
   ]
  },
  {
   "cell_type": "markdown",
   "metadata": {},
   "source": [
    "*Write your answer here, replacing this text.*"
   ]
  },
  {
   "cell_type": "markdown",
   "metadata": {
    "deletable": false,
    "editable": false
   },
   "source": [
    "Lowest female e0:\n",
    "<!--\n",
    "BEGIN QUESTION\n",
    "name: q_e0_lowestf\n",
    "points: 1\n",
    "manual: True\n",
    "-->\n",
    "<!-- EXPORT TO PDF -->"
   ]
  },
  {
   "cell_type": "markdown",
   "metadata": {},
   "source": [
    "*Write your answer here, replacing this text.*"
   ]
  },
  {
   "cell_type": "markdown",
   "metadata": {
    "deletable": false,
    "editable": false
   },
   "source": [
    "Highest male e0:\n",
    "<!--\n",
    "BEGIN QUESTION\n",
    "name: q_e0_highestm\n",
    "points: 1\n",
    "manual: True\n",
    "-->\n",
    "<!-- EXPORT TO PDF -->"
   ]
  },
  {
   "cell_type": "markdown",
   "metadata": {},
   "source": [
    "*Write your answer here, replacing this text.*"
   ]
  },
  {
   "cell_type": "markdown",
   "metadata": {
    "deletable": false,
    "editable": false
   },
   "source": [
    "Lowest male e0:\n",
    "<!--\n",
    "BEGIN QUESTION\n",
    "name: q_e0_highestm\n",
    "points: 1\n",
    "manual: True\n",
    "-->\n",
    "<!-- EXPORT TO PDF -->"
   ]
  },
  {
   "cell_type": "markdown",
   "metadata": {},
   "source": [
    "*Write your answer here, replacing this text.*"
   ]
  },
  {
   "cell_type": "markdown",
   "metadata": {},
   "source": [
    "**Question: Make a scatterplot that shows time (x axis) and life expectancy for females (y axis) for the following countries:**\n",
    "\n",
    "* **Japan**\n",
    "* **United States of America**\n",
    "* **Mali**\n",
    "* **China**\n",
    "\n",
    "**(So this will be 4 plots in total)**"
   ]
  },
  {
   "cell_type": "code",
   "execution_count": 38,
   "metadata": {},
   "outputs": [],
   "source": [
    "e0_byperiod.where('area', are.equal_to(...)).where('sex', are.equal_to(...)).scatter(..., ...)"
   ]
  },
  {
   "cell_type": "code",
   "execution_count": 39,
   "metadata": {},
   "outputs": [],
   "source": [
    "..."
   ]
  },
  {
   "cell_type": "code",
   "execution_count": 40,
   "metadata": {},
   "outputs": [],
   "source": [
    "..."
   ]
  },
  {
   "cell_type": "code",
   "execution_count": 41,
   "metadata": {},
   "outputs": [],
   "source": [
    "..."
   ]
  },
  {
   "cell_type": "markdown",
   "metadata": {
    "deletable": false,
    "editable": false
   },
   "source": [
    "**Question: Do these countries show similar patterns in life expectancy over time? What do you conclude about how mortality has changed over the past 60 or so years?**\n",
    "<!--\n",
    "BEGIN QUESTION\n",
    "name: q_interpret_country_e0_time\n",
    "points: 1\n",
    "manual: True\n",
    "-->\n",
    "<!-- EXPORT TO PDF -->"
   ]
  },
  {
   "cell_type": "markdown",
   "metadata": {},
   "source": [
    "*Write your answer here, replacing this text.*"
   ]
  },
  {
   "cell_type": "markdown",
   "metadata": {
    "deletable": false,
    "editable": false
   },
   "source": [
    "**Question: Based on these plots, would you say that inequality in mortality has increased, decreased, or stayed the same over the past 60 or so years?**\n",
    "<!--\n",
    "BEGIN QUESTION\n",
    "name: q_interp_country_e0_time_ineq\n",
    "points: 1\n",
    "manual: True\n",
    "-->\n",
    "<!-- EXPORT TO PDF -->"
   ]
  },
  {
   "cell_type": "markdown",
   "metadata": {},
   "source": [
    "*Write your answer here, replacing this text.*"
   ]
  },
  {
   "cell_type": "markdown",
   "metadata": {},
   "source": [
    "### SUBMIT your assignment by MIDNIGHT on the day of class"
   ]
  },
  {
   "cell_type": "markdown",
   "metadata": {},
   "source": [
    "Please submit your lab in by running the cell below. You can submit as many times as you want, up to midnight on the day of the class. **No late submissions are allowed**, and the system will prevent you from being able to submit late."
   ]
  },
  {
   "cell_type": "markdown",
   "metadata": {},
   "source": [
    "## Optional challenge problems: Exploring adult mortality"
   ]
  },
  {
   "cell_type": "markdown",
   "metadata": {},
   "source": [
    "In this lab, we looked at life expectancy and child mortality. Of course, mortality at adult ages is also important. One indicator that captures adult mortality is the life table probability of dying before age 60, among people who survive to age 15."
   ]
  },
  {
   "cell_type": "markdown",
   "metadata": {},
   "source": [
    "**Question: Using the model of child mortality, see if you can write code that calculates adult mortality for each country in 2015.**"
   ]
  },
  {
   "cell_type": "code",
   "execution_count": 42,
   "metadata": {},
   "outputs": [],
   "source": [
    "_ = ..."
   ]
  },
  {
   "cell_type": "markdown",
   "metadata": {},
   "source": [
    "**Question** Compare the indicators of child and adult mortality: which one tends to be higher? Which one tends to vary more from country to country?"
   ]
  },
  {
   "cell_type": "code",
   "execution_count": 43,
   "metadata": {},
   "outputs": [],
   "source": [
    "_ = ..."
   ]
  },
  {
   "cell_type": "code",
   "execution_count": 44,
   "metadata": {},
   "outputs": [],
   "source": [
    "# this cell runs all the tests at once!\n",
    "print(\"Running all tests...\")\n",
    "if os.path.isdir(\"tests\"):\n",
    "    _ = [ok.grade(q[:-3]) for q in os.listdir(\"tests\") if q.startswith('q_')]\n",
    "print(\"Finished running all tests.\")"
   ]
  },
  {
   "cell_type": "markdown",
   "metadata": {},
   "source": [
    "### Don't forget to SUBMIT your assignment by MIDNIGHT on the day of class"
   ]
  },
  {
   "cell_type": "markdown",
   "metadata": {},
   "source": [
    "If you attempted the challenge questions, great! Be sure to submit afterwards using the instructions in the cell above."
   ]
  },
  {
   "cell_type": "markdown",
   "id": "double-weapon",
   "metadata": {
    "deletable": false,
    "editable": false
   },
   "source": [
    "# Submit\n",
    "Make sure you have run all cells in your notebook in order before running the cell below, so that all images/graphs appear in the output.\n",
    "**Please save before submitting!**\n",
    "\n",
    "<!-- EXPECT 20 EXPORTED QUESTIONS -->"
   ]
  },
  {
   "cell_type": "code",
   "execution_count": null,
   "id": "loaded-pathology",
   "metadata": {
    "deletable": false,
    "editable": false
   },
   "outputs": [],
   "source": [
    "# Save your notebook first, then run this cell to submit.\n",
    "import jassign.to_pdf\n",
    "jassign.to_pdf.generate_pdf('lab02.ipynb', 'lab02.pdf')\n",
    "ok.submit()"
   ]
  }
 ],
 "metadata": {
  "anaconda-cloud": {},
  "kernelspec": {
   "display_name": "Python 3",
   "language": "python",
   "name": "python3"
  },
  "language_info": {
   "codemirror_mode": {
    "name": "ipython",
    "version": 3
   },
   "file_extension": ".py",
   "mimetype": "text/x-python",
   "name": "python",
   "nbconvert_exporter": "python",
   "pygments_lexer": "ipython3",
   "version": "3.7.7"
  }
 },
 "nbformat": 4,
 "nbformat_minor": 1
}
