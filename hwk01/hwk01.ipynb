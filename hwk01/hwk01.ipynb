{
 "cells": [
  {
   "cell_type": "code",
   "execution_count": null,
   "id": "delayed-apple",
   "metadata": {
    "deletable": false,
    "editable": false
   },
   "outputs": [],
   "source": [
    "# Initialize OK\n",
    "from client.api.notebook import Notebook\n",
    "ok = Notebook('hwk01.ok')"
   ]
  },
  {
   "cell_type": "code",
   "execution_count": 129,
   "metadata": {},
   "outputs": [],
   "source": [
    "from IPython.core.display import HTML\n",
    "from datascience import *\n",
    "\n",
    "import matplotlib\n",
    "matplotlib.use('Agg')\n",
    "%matplotlib inline\n",
    "import matplotlib.pyplot as plt\n",
    "import numpy as np\n",
    "plt.style.use('fivethirtyeight')\n",
    "import os\n",
    "def css_styling():\n",
    "    styles = open('../notebook_styles.css', 'r').read()\n",
    "    return HTML(styles)\n",
    "css_styling()"
   ]
  },
  {
   "cell_type": "markdown",
   "metadata": {},
   "source": [
    "# Hwk 01 - Mortality"
   ]
  },
  {
   "cell_type": "markdown",
   "metadata": {},
   "source": [
    "In this homework, we'll continue our exploration of the United Nations Population Division's [estimated life tables](https://esa.un.org/unpd/wpp/Download/Standard/Mortality/).  We'll draw upon the techniques we learned in Lab 01 (where we studied US life tables) and Lab 02 (where we studied the UN life tables)."
   ]
  },
  {
   "cell_type": "markdown",
   "metadata": {},
   "source": [
    "We'll start by opening up the UNPD life table data for 2015:"
   ]
  },
  {
   "cell_type": "code",
   "execution_count": 130,
   "metadata": {},
   "outputs": [],
   "source": [
    "unpd_2015 = Table.read_table('../data/UNPD/unpd_life_tables_2015_cleaned.csv')\n",
    "unpd_2015"
   ]
  },
  {
   "cell_type": "markdown",
   "metadata": {},
   "source": [
    "We'll also make a list with the names of all of the countries, like we did in Lab 02."
   ]
  },
  {
   "cell_type": "code",
   "execution_count": 131,
   "metadata": {},
   "outputs": [],
   "source": [
    "all_countries = np.unique(unpd_2015['area'])\n",
    "all_countries"
   ]
  },
  {
   "cell_type": "markdown",
   "metadata": {},
   "source": [
    "## Part 1 - Looking at life table functions"
   ]
  },
  {
   "cell_type": "markdown",
   "metadata": {},
   "source": [
    "In Lab 01, we saw in US state life tables that the log of the mortality rate had a characteristic shape. In this first section, we'll check to see if this phenomenon seems to apply to life tables from other parts of the world."
   ]
  },
  {
   "cell_type": "markdown",
   "metadata": {
    "deletable": false,
    "editable": false
   },
   "source": [
    "**Question 1: Add a column to `unpd_2015` that has the log of the death rate.**\n",
    "\n",
    "<!--\n",
    "BEGIN QUESTION\n",
    "name: q_1\n",
    "points: 1\n",
    "-->"
   ]
  },
  {
   "cell_type": "code",
   "execution_count": 132,
   "metadata": {},
   "outputs": [],
   "source": [
    "unpd_2015['log_death_rate'] = ...\n",
    "unpd_2015"
   ]
  },
  {
   "cell_type": "code",
   "execution_count": null,
   "id": "alleged-contract",
   "metadata": {
    "deletable": false,
    "editable": false
   },
   "outputs": [],
   "source": [
    "ok.grade(\"q_1\");"
   ]
  },
  {
   "cell_type": "markdown",
   "metadata": {
    "deletable": false,
    "editable": false
   },
   "source": [
    "**Question 2. Plot age (x axis) and the log mortality rate (y axis) for women in (a) Japan; (b) Mali; (c) Thailand; and (d) Brazil. [So, you will make four different plots.]**\n",
    "\n",
    "**2a - Japan**\n",
    "<!--\n",
    "BEGIN QUESTION\n",
    "name: q_2a\n",
    "points: 1\n",
    "manual: True\n",
    "-->\n",
    "<!-- EXPORT TO PDF -->"
   ]
  },
  {
   "cell_type": "code",
   "execution_count": 134,
   "metadata": {},
   "outputs": [],
   "source": [
    "unpd_2015.where('area', ...).where('sex', ...).plot(..., ...)"
   ]
  },
  {
   "cell_type": "markdown",
   "metadata": {
    "deletable": false,
    "editable": false
   },
   "source": [
    "**Question 2b - Mali**\n",
    "<!--\n",
    "BEGIN QUESTION\n",
    "name: q_2b\n",
    "points: 1\n",
    "manual: True\n",
    "-->\n",
    "<!-- EXPORT TO PDF -->"
   ]
  },
  {
   "cell_type": "code",
   "execution_count": 135,
   "metadata": {},
   "outputs": [],
   "source": [
    "# Mali\n",
    "unpd_2015.where('area', ...).where('sex', ...).plot(..., ...)"
   ]
  },
  {
   "cell_type": "markdown",
   "metadata": {
    "deletable": false,
    "editable": false
   },
   "source": [
    "**Question 2c - Thailand**\n",
    "<!--\n",
    "BEGIN QUESTION\n",
    "name: q_2c\n",
    "points: 1\n",
    "manual: True\n",
    "-->\n",
    "<!-- EXPORT TO PDF -->"
   ]
  },
  {
   "cell_type": "code",
   "execution_count": 136,
   "metadata": {},
   "outputs": [],
   "source": [
    "# Japan\n",
    "unpd_2015.where('area', ...).where('sex', ...).plot(..., ...)"
   ]
  },
  {
   "cell_type": "markdown",
   "metadata": {
    "deletable": false,
    "editable": false
   },
   "source": [
    "**Question 2d - Brazil**\n",
    "<!--\n",
    "BEGIN QUESTION\n",
    "name: q_2d\n",
    "points: 1\n",
    "manual: True\n",
    "-->\n",
    "<!-- EXPORT TO PDF -->"
   ]
  },
  {
   "cell_type": "code",
   "execution_count": 137,
   "metadata": {},
   "outputs": [],
   "source": [
    "# Brazil\n",
    "unpd_2015.where('area', ...).where('sex', ...).plot(..., ...)"
   ]
  },
  {
   "cell_type": "markdown",
   "metadata": {
    "deletable": false,
    "editable": false
   },
   "source": [
    "**Question 3. Do these four countries show the same general shape of log mortality rates that we saw for California in Lab 01?**\n",
    "<!--\n",
    "BEGIN QUESTION\n",
    "name: q_3\n",
    "points: 1\n",
    "manual: True\n",
    "-->\n",
    "<!-- EXPORT TO PDF -->"
   ]
  },
  {
   "cell_type": "markdown",
   "metadata": {},
   "source": [
    "*Write your answer here, replacing this text.*"
   ]
  },
  {
   "cell_type": "markdown",
   "metadata": {},
   "source": [
    "## Part 02 - Adult mortality"
   ]
  },
  {
   "cell_type": "markdown",
   "metadata": {},
   "source": [
    "In Lab 02, we looked at life expectancy at birth and at an indicator of child mortality called ${}_5q_0$. Now we'll extend our analysis to an indicator of adult mortality called ${}_{45}q_{15}$.  ${}_{45}q_{15}$ is the life table probability of death before age 60, *conditional on surviving to age 15*. So, ${}_{45}q_{15}$ can be written"
   ]
  },
  {
   "cell_type": "markdown",
   "metadata": {},
   "source": [
    "$$\n",
    "{}_{45}q_{15} = \\frac{\\text{# life table deaths between ages 15 and 60}}{\\text{# life table survivors to age 15}}\n",
    "$$\n",
    "\n",
    "Note that, unlike child mortality, the denominator is **not** the life table number of births; instead, the denominator is the life table number of people who survive to age 15.\n",
    "Similar to child mortality, we can also write ${}_{45}q_{15}$ as one minus a survival probability:\n",
    "\n",
    "$$\n",
    "{}_{45}q_{15} = 1 - \\frac{\\text{# life table survivors to 60}}{\\text{# life table survivors to age 15}}.\n",
    "$$\n",
    "\n",
    "This second expression will turn out to be a bit more useful in practice.\n",
    "\n",
    "\n",
    "Before we get started looking at the data, let's pause for a second and check that we understand what we want to measure here.  Take this example of the life table for Kenyan males:"
   ]
  },
  {
   "cell_type": "code",
   "execution_count": 138,
   "metadata": {},
   "outputs": [],
   "source": [
    "unpd_2015.where('area', are.equal_to('Kenya')).where('sex', are.equal_to('male')).show()"
   ]
  },
  {
   "cell_type": "markdown",
   "metadata": {
    "deletable": false,
    "editable": false
   },
   "source": [
    "**Question: Use the life table above to calculate adult mortality for Kenyan males by hand.**\n",
    "<!--\n",
    "BEGIN QUESTION\n",
    "name: q_lt_adultmort_kenya_m\n",
    "points: 1\n",
    "-->"
   ]
  },
  {
   "cell_type": "code",
   "execution_count": 139,
   "metadata": {},
   "outputs": [],
   "source": [
    "kenya_m_adultmort = ... # just type the numbers you need to calculate this in by hand (from the life table above)\n",
    "kenya_m_adultmort"
   ]
  },
  {
   "cell_type": "code",
   "execution_count": null,
   "id": "premium-legislation",
   "metadata": {
    "deletable": false,
    "editable": false
   },
   "outputs": [],
   "source": [
    "ok.grade(\"q_lt_adultmort_kenya_m\");"
   ]
  },
  {
   "cell_type": "markdown",
   "metadata": {},
   "source": [
    "You should get an answer of about 0.282. This means that in the synthetic population described by the life table, there is about a 28% chance that someone who survives to age 15 will continue to survive to age 60."
   ]
  },
  {
   "cell_type": "markdown",
   "metadata": {
    "deletable": false,
    "editable": false
   },
   "source": [
    "**Question: Look at the rows in the life table. What is the index of the row corresponding to (a) age 15? (b) age 60?**  \n",
    "\n",
    "*[HINT: Remember that indexes start at zero; so, for example, the second row has index 1]*\n",
    "<!--\n",
    "BEGIN QUESTION\n",
    "name: q_ffqf_index\n",
    "points: 2\n",
    "-->"
   ]
  },
  {
   "cell_type": "code",
   "execution_count": 141,
   "metadata": {},
   "outputs": [],
   "source": [
    "index_for_age_15 = ...\n",
    "index_for_age_60 = ..."
   ]
  },
  {
   "cell_type": "code",
   "execution_count": null,
   "id": "urban-probability",
   "metadata": {
    "deletable": false,
    "editable": false
   },
   "outputs": [],
   "source": [
    "ok.grade(\"q_ffqf_index\");"
   ]
  },
  {
   "cell_type": "markdown",
   "metadata": {
    "deletable": false,
    "editable": false
   },
   "source": [
    "**Question: Now fill in the code below to calculate adult mortality for Kenyan males (the same thing you just calculated by hand).**\n",
    "<!--\n",
    "BEGIN QUESTION\n",
    "name: q_ffqf_kenya_m\n",
    "points: 2\n",
    "-->"
   ]
  },
  {
   "cell_type": "code",
   "execution_count": 144,
   "metadata": {},
   "outputs": [],
   "source": [
    "lt_data = unpd_2015.where('area', are.equal_to(...)).where('sex', are.equal_to(...))\n",
    "kenya_m_ffqf = 1 - (lt_data[...][...] / lt_data[...][...])\n",
    "kenya_m_ffqf"
   ]
  },
  {
   "cell_type": "code",
   "execution_count": null,
   "id": "helpful-shoot",
   "metadata": {
    "deletable": false,
    "editable": false
   },
   "outputs": [],
   "source": [
    "ok.grade(\"q_ffqf_kenya_m\");"
   ]
  },
  {
   "cell_type": "markdown",
   "metadata": {},
   "source": [
    "You should get the same answer that you got when calculating by hand.  \n",
    "  \n",
    "Now that we know how to calculate adult mortality for a specific example, let's write a function that will help us calculate it everywhere."
   ]
  },
  {
   "cell_type": "markdown",
   "metadata": {
    "deletable": false,
    "editable": false
   },
   "source": [
    "**Question - fill in the code below to make a function that calculates adult mortality for a given life table**\n",
    "<!--\n",
    "BEGIN QUESTION\n",
    "name: q_ffqf_kenya_m_fn\n",
    "points: 3\n",
    "-->"
   ]
  },
  {
   "cell_type": "code",
   "execution_count": 146,
   "metadata": {},
   "outputs": [],
   "source": [
    "def get_adult_mortality(lt_data):\n",
    "    \"\"\"\n",
    "    Given the data for a life table, calculate the life table probability of death between \n",
    "    ages 15 and age 60.\n",
    "    \n",
    "    NOTE: this assumes that the life table is sorted by age\n",
    "    \"\"\"\n",
    "    adult_survival = lt_data[...][...] / lt_data[...][...]\n",
    "    adult_mortality = ...\n",
    "    \n",
    "    return(adult_mortality)\n",
    "\n",
    "# check on Kenyan males\n",
    "kenya_f_lt = unpd_2015.where('area', are.equal_to('Kenya')).where('sex', are.equal_to('male'))\n",
    "kenya_f_am = get_adult_mortality(kenya_f_lt)\n",
    "print(\"adult mortality for Kenyan males: \", kenya_f_am)"
   ]
  },
  {
   "cell_type": "code",
   "execution_count": null,
   "id": "specialized-canberra",
   "metadata": {
    "deletable": false,
    "editable": false
   },
   "outputs": [],
   "source": [
    "ok.grade(\"q_ffqf_kenya_m_fn\");"
   ]
  },
  {
   "cell_type": "markdown",
   "metadata": {},
   "source": [
    "Now that we have a function, we can calculate adult mortality for every country in the UNPD database by writing a loop."
   ]
  },
  {
   "cell_type": "markdown",
   "metadata": {
    "deletable": false,
    "editable": false
   },
   "source": [
    "**Question - Fill in the missing parts of the code below to calculate adult mortality for all of the countries in the UNPD database.**\n",
    "<!--\n",
    "BEGIN QUESTION\n",
    "name: q_adultmort\n",
    "points: 4\n",
    "-->"
   ]
  },
  {
   "cell_type": "code",
   "execution_count": 148,
   "metadata": {},
   "outputs": [],
   "source": [
    "country_adultmort_m = make_array()\n",
    "country_adultmort_f = make_array()\n",
    "\n",
    "lt_m = unpd_2015.where('sex', are.equal_to('male'))\n",
    "lt_f = unpd_2015.where('sex', are.equal_to('female'))\n",
    "\n",
    "\n",
    "for country in all_countries:\n",
    "    country_adultmort_m = np.append(country_adultmort_m,\n",
    "                                    ...)\n",
    "    country_adultmort_f = np.append(country_adultmort_f,\n",
    "                                    ...)\n",
    "    \n",
    "adultmort_2015 = Table().with_columns('country', ...,\n",
    "                                      'adultmort_m', ...,\n",
    "                                      'adultmort_f', ...)\n",
    "\n",
    "adultmort_2015.show()"
   ]
  },
  {
   "cell_type": "code",
   "execution_count": null,
   "id": "hybrid-custom",
   "metadata": {
    "deletable": false,
    "editable": false
   },
   "outputs": [],
   "source": [
    "ok.grade(\"q_adultmort\");"
   ]
  },
  {
   "cell_type": "markdown",
   "metadata": {},
   "source": [
    "## Part 03 - Which economic and social factors are related to mortality?"
   ]
  },
  {
   "cell_type": "markdown",
   "metadata": {},
   "source": [
    "Recall that in Lab 02, we compared life expectancy and chlid mortality. Now that we've calculated adult mortality, we can add it to our analysis.\n",
    "\n",
    "To avoid having to rerun all of the analysis from Lab 02, I've saved the important results (life expectancy and child mortality) in a dataset. We'll load that dataset now."
   ]
  },
  {
   "cell_type": "code",
   "execution_count": 151,
   "metadata": {},
   "outputs": [],
   "source": [
    "all_mort = Table.read_table('lab02_all_mort.csv')\n",
    "all_mort"
   ]
  },
  {
   "cell_type": "markdown",
   "metadata": {},
   "source": [
    "`all_mort` has some of the results we calculated in Lab 02: for each country, it has life expectancy (`e0_m` and `e0_f`) and child mortality. Now we want to add the adult mortality values."
   ]
  },
  {
   "cell_type": "markdown",
   "metadata": {
    "deletable": false,
    "editable": false
   },
   "source": [
    "**Question - Use `join` to add in adult mortality indicators you calculated (stored in `adultmort_2015`) to the `all_mort` dataset.**\n",
    "<!--\n",
    "BEGIN QUESTION\n",
    "name: q_adult_join\n",
    "points: 2\n",
    "-->"
   ]
  },
  {
   "cell_type": "code",
   "execution_count": 152,
   "metadata": {},
   "outputs": [],
   "source": [
    "all_mort = ...\n",
    "all_mort.show()"
   ]
  },
  {
   "cell_type": "code",
   "execution_count": null,
   "id": "lesbian-worship",
   "metadata": {
    "deletable": false,
    "editable": false
   },
   "outputs": [],
   "source": [
    "ok.grade(\"q_adult_join\");"
   ]
  },
  {
   "cell_type": "markdown",
   "metadata": {
    "deletable": false,
    "editable": false
   },
   "source": [
    "**Question - Make a scatter plot that compares female life expectancy (x axis) and female adult mortality (y axis).**\n",
    "<!--\n",
    "BEGIN QUESTION\n",
    "name: q_fffqf_vs_fe0\n",
    "points: 2\n",
    "manual: True\n",
    "image: True\n",
    "-->\n",
    "<!-- EXPORT TO PDF -->"
   ]
  },
  {
   "cell_type": "code",
   "execution_count": 155,
   "metadata": {},
   "outputs": [],
   "source": [
    "..."
   ]
  },
  {
   "cell_type": "markdown",
   "metadata": {
    "deletable": false,
    "editable": false
   },
   "source": [
    "**Question - Now make a scatter plot that compares female child mortality (x axis) and female adult mortality (y axis)**\n",
    "<!--\n",
    "BEGIN QUESTION\n",
    "name: q_fffqf_vs_ffq0\n",
    "points: 2\n",
    "manual: True\n",
    "image: True\n",
    "-->\n",
    "<!-- EXPORT TO PDF -->"
   ]
  },
  {
   "cell_type": "code",
   "execution_count": 156,
   "metadata": {},
   "outputs": [],
   "source": [
    "..."
   ]
  },
  {
   "cell_type": "markdown",
   "metadata": {
    "deletable": false,
    "editable": false
   },
   "source": [
    "**Question - Thinking about the two plots above, which relationship is stronger? In other words, if you wanted to predict a country's female adult mortality, would you rather use female life expectancy or female child mortality?**\n",
    "<!--\n",
    "BEGIN QUESTION\n",
    "name: q_twoplots\n",
    "points: 1\n",
    "manual: True\n",
    "-->\n",
    "<!-- EXPORT TO PDF -->"
   ]
  },
  {
   "cell_type": "markdown",
   "metadata": {},
   "source": [
    "*Write your answer here, replacing this text.*"
   ]
  },
  {
   "cell_type": "markdown",
   "metadata": {},
   "source": [
    "### Join in development indicators"
   ]
  },
  {
   "cell_type": "markdown",
   "metadata": {},
   "source": [
    "The World Bank periodically estimates lots of indicators related to different aspects of international development. We'll look at a couple here:\n",
    "\n",
    "1. [GDP per capita (Current US $)](https://datacatalog.worldbank.org/search?search_api_views_fulltext_op=AND&query=NY.GDP.PCAP.CD&nid=&sort_by=search_api_relevance&sort_by=search_api_relevance)\n",
    "2. [Health Expenditure, Total (% of GDP)](https://datacatalog.worldbank.org/search?search_api_views_fulltext_op=AND&query=SH.XPD.TOTL.ZS&nid=&sort_by=search_api_relevance&sort_by=search_api_relevance)\n",
    "3. [Percentage of secondary school students that is female](http://databank.worldbank.org/data/reports.aspx?source=world-development-indicators)\n",
    "\n",
    "Note that these indicators are for the single year 2012, in order to approximate the midpoint of the 2010-2015 time period of the UNDP life tables.\n",
    "\n",
    "We'll read these indicators in now."
   ]
  },
  {
   "cell_type": "code",
   "execution_count": 157,
   "metadata": {},
   "outputs": [],
   "source": [
    "wdi_dat = Table.read_table('../data/WB/wdi_health_2015_cleaned.csv')\n",
    "wdi_dat"
   ]
  },
  {
   "cell_type": "markdown",
   "metadata": {},
   "source": [
    "Now we'd like to add the economic/development indicators to the mortality dataset. This will enable us to study how the economic/development indicators are related to mortality."
   ]
  },
  {
   "cell_type": "markdown",
   "metadata": {
    "deletable": false,
    "editable": false
   },
   "source": [
    "**Question - Join the economic/development indictors (`wdi_dat`) onto the mortality data (`all_mort`); call the resulting table `all_mort_econ`.**  \n",
    "*[HINT: the column 'country' in `all_mort` can be matched with the column called 'area' in `wdi_dat`]*\n",
    "<!--\n",
    "BEGIN QUESTION\n",
    "name: q_econ_join\n",
    "points: 2\n",
    "-->"
   ]
  },
  {
   "cell_type": "code",
   "execution_count": 158,
   "metadata": {},
   "outputs": [],
   "source": [
    "all_mort_econ = ...\n",
    "all_mort_econ"
   ]
  },
  {
   "cell_type": "code",
   "execution_count": null,
   "id": "elect-segment",
   "metadata": {
    "deletable": false,
    "editable": false
   },
   "outputs": [],
   "source": [
    "ok.grade(\"q_econ_join\");"
   ]
  },
  {
   "cell_type": "markdown",
   "metadata": {},
   "source": [
    "Now that we have the data together, we'll make plots that compare life expectancy to the three social/economic indicators."
   ]
  },
  {
   "cell_type": "markdown",
   "metadata": {
    "deletable": false,
    "editable": false
   },
   "source": [
    "**Question - make a scatter plot that shows GDP on the x axis and life expectancy (for males and females) on the y axis**\n",
    "<!--\n",
    "BEGIN QUESTION\n",
    "name: q_gdp_e0\n",
    "points: 3\n",
    "manual: True\n",
    "image: True\n",
    "-->\n",
    "<!-- EXPORT TO PDF -->"
   ]
  },
  {
   "cell_type": "code",
   "execution_count": 161,
   "metadata": {},
   "outputs": [],
   "source": [
    "..."
   ]
  },
  {
   "cell_type": "markdown",
   "metadata": {
    "deletable": false,
    "editable": false
   },
   "source": [
    "**Question - make a scatter plot that shows health expenditure (`hlthexp`) on the x axis and life expectancy (for males and females) on the y axis**\n",
    "<!--\n",
    "BEGIN QUESTION\n",
    "name: q_hlthexp_e0\n",
    "points: 3\n",
    "manual: True\n",
    "image: True\n",
    "-->\n",
    "<!-- EXPORT TO PDF -->"
   ]
  },
  {
   "cell_type": "code",
   "execution_count": 162,
   "metadata": {},
   "outputs": [],
   "source": [
    "..."
   ]
  },
  {
   "cell_type": "markdown",
   "metadata": {
    "deletable": false,
    "editable": false
   },
   "source": [
    "**Question - make a scatter plot that shows the percentage of female secondary school students (`pctf_secondary`) on the x axis and life expectancy (for males and females) on the y axis**\n",
    "<!--\n",
    "BEGIN QUESTION\n",
    "name: q_secondaryed_e0\n",
    "points: 3\n",
    "manual: True\n",
    "image: True\n",
    "-->\n",
    "<!-- EXPORT TO PDF -->"
   ]
  },
  {
   "cell_type": "code",
   "execution_count": 163,
   "metadata": {},
   "outputs": [],
   "source": [
    "..."
   ]
  },
  {
   "cell_type": "markdown",
   "metadata": {
    "deletable": false,
    "editable": false
   },
   "source": [
    "**Question - For each of the three scatterplots, describe whether you think it suggests a strong relationship, weak relationship, or no relationship to life expectancy**\n",
    "<!--\n",
    "BEGIN QUESTION\n",
    "name: q_e0_relationships\n",
    "points: 2\n",
    "manual: True\n",
    "-->\n",
    "<!-- EXPORT TO PDF -->"
   ]
  },
  {
   "cell_type": "markdown",
   "metadata": {},
   "source": [
    "*Write your answer here, replacing this text.*"
   ]
  },
  {
   "cell_type": "markdown",
   "metadata": {
    "deletable": false,
    "editable": false
   },
   "source": [
    "**Question - Suppose a new technology is discovered that allows very poor countries to increase their GDP dramatically.  Does the scatterplot above tell us anything about what would happen to life expectancy in those countries?**\n",
    "<!--\n",
    "BEGIN QUESTION\n",
    "name: q_gdp_relationships\n",
    "points: 2\n",
    "manual: True\n",
    "-->\n",
    "<!-- EXPORT TO PDF -->"
   ]
  },
  {
   "cell_type": "markdown",
   "metadata": {},
   "source": [
    "*Write your answer here, replacing this text.*"
   ]
  },
  {
   "cell_type": "markdown",
   "metadata": {},
   "source": [
    "The scatterplot you just made comparing GDP and life expectancy is sometimes called the **Preston Curve**. It's famous! (Well, famous in some circles.)"
   ]
  },
  {
   "cell_type": "markdown",
   "metadata": {},
   "source": [
    "### Run all tests"
   ]
  },
  {
   "cell_type": "markdown",
   "metadata": {},
   "source": [
    "This cell just re-runs all of the unit tests in the notebook, to summarize the results"
   ]
  },
  {
   "cell_type": "code",
   "execution_count": 164,
   "metadata": {},
   "outputs": [],
   "source": [
    "# this cell runs all the tests at once!\n",
    "print(\"Running all tests...\")\n",
    "if os.path.isdir(\"tests\"):\n",
    "    _ = [ok.grade(q[:-3]) for q in os.listdir(\"tests\") if q.startswith('q_')]\n",
    "print(\"Finished running all tests.\")"
   ]
  },
  {
   "cell_type": "markdown",
   "metadata": {},
   "source": [
    "## SUBMIT your assignment by the deadline"
   ]
  },
  {
   "cell_type": "markdown",
   "metadata": {},
   "source": [
    "Please submit your lab in by running the cell below. You can submit as many times as you want, up to midnight on the day of the deadline. "
   ]
  },
  {
   "cell_type": "markdown",
   "id": "reliable-hometown",
   "metadata": {
    "deletable": false,
    "editable": false
   },
   "source": [
    "# Submit\n",
    "Make sure you have run all cells in your notebook in order before running the cell below, so that all images/graphs appear in the output.\n",
    "**Please save before submitting!**\n",
    "\n",
    "<!-- EXPECT 13 EXPORTED QUESTIONS -->"
   ]
  },
  {
   "cell_type": "code",
   "execution_count": null,
   "id": "suspected-graduation",
   "metadata": {
    "deletable": false,
    "editable": false
   },
   "outputs": [],
   "source": [
    "# Save your notebook first, then run this cell to submit.\n",
    "import jassign.to_pdf\n",
    "jassign.to_pdf.generate_pdf('hwk01.ipynb', 'hwk01.pdf')\n",
    "ok.submit()"
   ]
  }
 ],
 "metadata": {
  "anaconda-cloud": {},
  "kernelspec": {
   "display_name": "Python 3",
   "language": "python",
   "name": "python3"
  },
  "language_info": {
   "codemirror_mode": {
    "name": "ipython",
    "version": 3
   },
   "file_extension": ".py",
   "mimetype": "text/x-python",
   "name": "python",
   "nbconvert_exporter": "python",
   "pygments_lexer": "ipython3",
   "version": "3.7.7"
  }
 },
 "nbformat": 4,
 "nbformat_minor": 1
}
